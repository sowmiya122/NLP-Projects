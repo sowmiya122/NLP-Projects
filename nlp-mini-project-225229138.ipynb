{
 "cells": [
  {
   "cell_type": "code",
   "execution_count": 1,
   "id": "795eca1f",
   "metadata": {
    "_cell_guid": "b1076dfc-b9ad-4769-8c92-a6c4dae69d19",
    "_uuid": "8f2839f25d086af736a60e9eeb907d3b93b6e0e5",
    "execution": {
     "iopub.execute_input": "2023-04-05T15:24:41.258420Z",
     "iopub.status.busy": "2023-04-05T15:24:41.257967Z",
     "iopub.status.idle": "2023-04-05T15:24:41.280222Z",
     "shell.execute_reply": "2023-04-05T15:24:41.277011Z"
    },
    "papermill": {
     "duration": 0.033947,
     "end_time": "2023-04-05T15:24:41.283024",
     "exception": false,
     "start_time": "2023-04-05T15:24:41.249077",
     "status": "completed"
    },
    "tags": []
   },
   "outputs": [
    {
     "name": "stdout",
     "output_type": "stream",
     "text": [
      "/kaggle/input/consume-complaints-dataset-fo-nlp/complaints_processed.csv\n"
     ]
    }
   ],
   "source": [
    "# This Python 3 environment comes with many helpful analytics libraries installed\n",
    "# It is defined by the kaggle/python Docker image: https://github.com/kaggle/docker-python\n",
    "# For example, here's several helpful packages to load\n",
    "\n",
    "import numpy as np # linear algebra\n",
    "import pandas as pd # data processing, CSV file I/O (e.g. pd.read_csv)\n",
    "\n",
    "# Input data files are available in the read-only \"../input/\" directory\n",
    "# For example, running this (by clicking run or pressing Shift+Enter) will list all files under the input directory\n",
    "\n",
    "import os\n",
    "for dirname, _, filenames in os.walk('/kaggle/input'):\n",
    "    for filename in filenames:\n",
    "        print(os.path.join(dirname, filename))\n",
    "\n",
    "# You can write up to 20GB to the current directory (/kaggle/working/) that gets preserved as output when you create a version using \"Save & Run All\" \n",
    "# You can also write temporary files to /kaggle/temp/, but they won't be saved outside of the current session"
   ]
  },
  {
   "cell_type": "code",
   "execution_count": 2,
   "id": "0dc5f75e",
   "metadata": {
    "execution": {
     "iopub.execute_input": "2023-04-05T15:24:41.297560Z",
     "iopub.status.busy": "2023-04-05T15:24:41.296701Z",
     "iopub.status.idle": "2023-04-05T15:24:43.171147Z",
     "shell.execute_reply": "2023-04-05T15:24:43.169788Z"
    },
    "papermill": {
     "duration": 1.885119,
     "end_time": "2023-04-05T15:24:43.174315",
     "exception": false,
     "start_time": "2023-04-05T15:24:41.289196",
     "status": "completed"
    },
    "tags": []
   },
   "outputs": [],
   "source": [
    "import re\n",
    "import nltk\n",
    "from nltk.corpus import stopwords"
   ]
  },
  {
   "cell_type": "code",
   "execution_count": 3,
   "id": "bfbae438",
   "metadata": {
    "execution": {
     "iopub.execute_input": "2023-04-05T15:24:43.188107Z",
     "iopub.status.busy": "2023-04-05T15:24:43.187418Z",
     "iopub.status.idle": "2023-04-05T15:24:45.730881Z",
     "shell.execute_reply": "2023-04-05T15:24:45.729508Z"
    },
    "papermill": {
     "duration": 2.55382,
     "end_time": "2023-04-05T15:24:45.733856",
     "exception": false,
     "start_time": "2023-04-05T15:24:43.180036",
     "status": "completed"
    },
    "tags": []
   },
   "outputs": [],
   "source": [
    "df=pd.read_csv(\"/kaggle/input/consume-complaints-dataset-fo-nlp/complaints_processed.csv\")"
   ]
  },
  {
   "cell_type": "code",
   "execution_count": 4,
   "id": "027fcda5",
   "metadata": {
    "execution": {
     "iopub.execute_input": "2023-04-05T15:24:45.747983Z",
     "iopub.status.busy": "2023-04-05T15:24:45.746899Z",
     "iopub.status.idle": "2023-04-05T15:24:45.777128Z",
     "shell.execute_reply": "2023-04-05T15:24:45.775489Z"
    },
    "papermill": {
     "duration": 0.040272,
     "end_time": "2023-04-05T15:24:45.780084",
     "exception": false,
     "start_time": "2023-04-05T15:24:45.739812",
     "status": "completed"
    },
    "tags": []
   },
   "outputs": [
    {
     "data": {
      "text/html": [
       "<div>\n",
       "<style scoped>\n",
       "    .dataframe tbody tr th:only-of-type {\n",
       "        vertical-align: middle;\n",
       "    }\n",
       "\n",
       "    .dataframe tbody tr th {\n",
       "        vertical-align: top;\n",
       "    }\n",
       "\n",
       "    .dataframe thead th {\n",
       "        text-align: right;\n",
       "    }\n",
       "</style>\n",
       "<table border=\"1\" class=\"dataframe\">\n",
       "  <thead>\n",
       "    <tr style=\"text-align: right;\">\n",
       "      <th></th>\n",
       "      <th>Unnamed: 0</th>\n",
       "      <th>product</th>\n",
       "      <th>narrative</th>\n",
       "    </tr>\n",
       "  </thead>\n",
       "  <tbody>\n",
       "    <tr>\n",
       "      <th>0</th>\n",
       "      <td>0</td>\n",
       "      <td>credit_card</td>\n",
       "      <td>purchase order day shipping amount receive pro...</td>\n",
       "    </tr>\n",
       "    <tr>\n",
       "      <th>1</th>\n",
       "      <td>1</td>\n",
       "      <td>credit_card</td>\n",
       "      <td>forwarded message date tue subject please inve...</td>\n",
       "    </tr>\n",
       "    <tr>\n",
       "      <th>2</th>\n",
       "      <td>2</td>\n",
       "      <td>retail_banking</td>\n",
       "      <td>forwarded message cc sent friday pdt subject f...</td>\n",
       "    </tr>\n",
       "    <tr>\n",
       "      <th>3</th>\n",
       "      <td>3</td>\n",
       "      <td>credit_reporting</td>\n",
       "      <td>payment history missing credit report speciali...</td>\n",
       "    </tr>\n",
       "    <tr>\n",
       "      <th>4</th>\n",
       "      <td>4</td>\n",
       "      <td>credit_reporting</td>\n",
       "      <td>payment history missing credit report made mis...</td>\n",
       "    </tr>\n",
       "  </tbody>\n",
       "</table>\n",
       "</div>"
      ],
      "text/plain": [
       "   Unnamed: 0           product  \\\n",
       "0           0       credit_card   \n",
       "1           1       credit_card   \n",
       "2           2    retail_banking   \n",
       "3           3  credit_reporting   \n",
       "4           4  credit_reporting   \n",
       "\n",
       "                                           narrative  \n",
       "0  purchase order day shipping amount receive pro...  \n",
       "1  forwarded message date tue subject please inve...  \n",
       "2  forwarded message cc sent friday pdt subject f...  \n",
       "3  payment history missing credit report speciali...  \n",
       "4  payment history missing credit report made mis...  "
      ]
     },
     "execution_count": 4,
     "metadata": {},
     "output_type": "execute_result"
    }
   ],
   "source": [
    "df.head()"
   ]
  },
  {
   "cell_type": "markdown",
   "id": "0cd61eb7",
   "metadata": {
    "papermill": {
     "duration": 0.005666,
     "end_time": "2023-04-05T15:24:45.792032",
     "exception": false,
     "start_time": "2023-04-05T15:24:45.786366",
     "status": "completed"
    },
    "tags": []
   },
   "source": [
    "**Preprocess the text data**"
   ]
  },
  {
   "cell_type": "code",
   "execution_count": 5,
   "id": "b5ed5414",
   "metadata": {
    "execution": {
     "iopub.execute_input": "2023-04-05T15:24:45.805927Z",
     "iopub.status.busy": "2023-04-05T15:24:45.805470Z",
     "iopub.status.idle": "2023-04-05T15:24:45.813287Z",
     "shell.execute_reply": "2023-04-05T15:24:45.811887Z"
    },
    "papermill": {
     "duration": 0.017756,
     "end_time": "2023-04-05T15:24:45.815768",
     "exception": false,
     "start_time": "2023-04-05T15:24:45.798012",
     "status": "completed"
    },
    "tags": []
   },
   "outputs": [],
   "source": [
    "def preprocess_text(text):\n",
    "    # Convert to lowercase\n",
    "    text=str(text)\n",
    "    text = text.lower()\n",
    "    # Remove punctuation\n",
    "    text = re.sub(r'[^\\w\\s]', '', text)\n",
    "    # Remove stopwords\n",
    "    stop_words = set(stopwords.words('english'))\n",
    "    tokens = nltk.word_tokenize(text)\n",
    "    text = [word for word in tokens if word not in stop_words]\n",
    "    # Stem the words\n",
    "    stemmer = nltk.PorterStemmer()\n",
    "    text = [stemmer.stem(word) for word in text]\n",
    "    # Convert back to string format\n",
    "    text = ' '.join(text)\n",
    "    return text"
   ]
  },
  {
   "cell_type": "code",
   "execution_count": 6,
   "id": "bd1e90aa",
   "metadata": {
    "execution": {
     "iopub.execute_input": "2023-04-05T15:24:45.830120Z",
     "iopub.status.busy": "2023-04-05T15:24:45.829686Z",
     "iopub.status.idle": "2023-04-05T15:33:14.243110Z",
     "shell.execute_reply": "2023-04-05T15:33:14.242027Z"
    },
    "papermill": {
     "duration": 508.423859,
     "end_time": "2023-04-05T15:33:14.245970",
     "exception": false,
     "start_time": "2023-04-05T15:24:45.822111",
     "status": "completed"
    },
    "tags": []
   },
   "outputs": [],
   "source": [
    "df['narrative'] = df['narrative'].apply(preprocess_text)"
   ]
  },
  {
   "cell_type": "code",
   "execution_count": 7,
   "id": "fccf32d2",
   "metadata": {
    "execution": {
     "iopub.execute_input": "2023-04-05T15:33:14.260491Z",
     "iopub.status.busy": "2023-04-05T15:33:14.260052Z",
     "iopub.status.idle": "2023-04-05T15:33:14.265116Z",
     "shell.execute_reply": "2023-04-05T15:33:14.263865Z"
    },
    "papermill": {
     "duration": 0.015213,
     "end_time": "2023-04-05T15:33:14.267589",
     "exception": false,
     "start_time": "2023-04-05T15:33:14.252376",
     "status": "completed"
    },
    "tags": []
   },
   "outputs": [],
   "source": [
    "from sklearn.feature_extraction.text import CountVectorizer\n",
    "from sklearn.feature_extraction.text import TfidfTransformer"
   ]
  },
  {
   "cell_type": "code",
   "execution_count": 8,
   "id": "1132ff7b",
   "metadata": {
    "execution": {
     "iopub.execute_input": "2023-04-05T15:33:14.281914Z",
     "iopub.status.busy": "2023-04-05T15:33:14.281136Z",
     "iopub.status.idle": "2023-04-05T15:33:25.163231Z",
     "shell.execute_reply": "2023-04-05T15:33:25.161683Z"
    },
    "papermill": {
     "duration": 10.89269,
     "end_time": "2023-04-05T15:33:25.166221",
     "exception": false,
     "start_time": "2023-04-05T15:33:14.273531",
     "status": "completed"
    },
    "tags": []
   },
   "outputs": [],
   "source": [
    "vectorizer = CountVectorizer()\n",
    "X = vectorizer.fit_transform(df['narrative'])\n",
    "tfidf_transformer = TfidfTransformer()\n",
    "X = tfidf_transformer.fit_transform(X)"
   ]
  },
  {
   "cell_type": "code",
   "execution_count": 9,
   "id": "6f583da4",
   "metadata": {
    "execution": {
     "iopub.execute_input": "2023-04-05T15:33:25.181299Z",
     "iopub.status.busy": "2023-04-05T15:33:25.180518Z",
     "iopub.status.idle": "2023-04-05T15:33:25.186412Z",
     "shell.execute_reply": "2023-04-05T15:33:25.185239Z"
    },
    "papermill": {
     "duration": 0.016416,
     "end_time": "2023-04-05T15:33:25.189167",
     "exception": false,
     "start_time": "2023-04-05T15:33:25.172751",
     "status": "completed"
    },
    "tags": []
   },
   "outputs": [],
   "source": [
    "y = df['product']"
   ]
  },
  {
   "cell_type": "markdown",
   "id": "b49d7564",
   "metadata": {
    "papermill": {
     "duration": 0.005682,
     "end_time": "2023-04-05T15:33:25.201052",
     "exception": false,
     "start_time": "2023-04-05T15:33:25.195370",
     "status": "completed"
    },
    "tags": []
   },
   "source": []
  },
  {
   "cell_type": "markdown",
   "id": "fd498539",
   "metadata": {
    "papermill": {
     "duration": 0.006119,
     "end_time": "2023-04-05T15:33:25.213595",
     "exception": false,
     "start_time": "2023-04-05T15:33:25.207476",
     "status": "completed"
    },
    "tags": []
   },
   "source": [
    "**Split the data into training and testing sets**"
   ]
  },
  {
   "cell_type": "code",
   "execution_count": 10,
   "id": "82f37333",
   "metadata": {
    "execution": {
     "iopub.execute_input": "2023-04-05T15:33:25.228039Z",
     "iopub.status.busy": "2023-04-05T15:33:25.226931Z",
     "iopub.status.idle": "2023-04-05T15:33:25.233037Z",
     "shell.execute_reply": "2023-04-05T15:33:25.231644Z"
    },
    "papermill": {
     "duration": 0.016375,
     "end_time": "2023-04-05T15:33:25.235972",
     "exception": false,
     "start_time": "2023-04-05T15:33:25.219597",
     "status": "completed"
    },
    "tags": []
   },
   "outputs": [],
   "source": [
    "from sklearn.model_selection import train_test_split"
   ]
  },
  {
   "cell_type": "code",
   "execution_count": 11,
   "id": "8b97e877",
   "metadata": {
    "execution": {
     "iopub.execute_input": "2023-04-05T15:33:25.250132Z",
     "iopub.status.busy": "2023-04-05T15:33:25.249749Z",
     "iopub.status.idle": "2023-04-05T15:33:25.308683Z",
     "shell.execute_reply": "2023-04-05T15:33:25.307198Z"
    },
    "papermill": {
     "duration": 0.069749,
     "end_time": "2023-04-05T15:33:25.311916",
     "exception": false,
     "start_time": "2023-04-05T15:33:25.242167",
     "status": "completed"
    },
    "tags": []
   },
   "outputs": [],
   "source": [
    "X_train, X_test, y_train, y_test = train_test_split(X, y, test_size=0.2)"
   ]
  },
  {
   "cell_type": "markdown",
   "id": "bd4b1ce7",
   "metadata": {
    "papermill": {
     "duration": 0.005873,
     "end_time": "2023-04-05T15:33:25.323889",
     "exception": false,
     "start_time": "2023-04-05T15:33:25.318016",
     "status": "completed"
    },
    "tags": []
   },
   "source": [
    "**Naive_Bayes**"
   ]
  },
  {
   "cell_type": "code",
   "execution_count": 12,
   "id": "91447ede",
   "metadata": {
    "execution": {
     "iopub.execute_input": "2023-04-05T15:33:25.338682Z",
     "iopub.status.busy": "2023-04-05T15:33:25.338207Z",
     "iopub.status.idle": "2023-04-05T15:33:25.351385Z",
     "shell.execute_reply": "2023-04-05T15:33:25.350028Z"
    },
    "papermill": {
     "duration": 0.024066,
     "end_time": "2023-04-05T15:33:25.354401",
     "exception": false,
     "start_time": "2023-04-05T15:33:25.330335",
     "status": "completed"
    },
    "tags": []
   },
   "outputs": [],
   "source": [
    "from sklearn.naive_bayes import MultinomialNB\n",
    "from sklearn.metrics import classification_report\n"
   ]
  },
  {
   "cell_type": "code",
   "execution_count": 13,
   "id": "3d885df7",
   "metadata": {
    "execution": {
     "iopub.execute_input": "2023-04-05T15:33:25.369059Z",
     "iopub.status.busy": "2023-04-05T15:33:25.368619Z",
     "iopub.status.idle": "2023-04-05T15:33:25.833559Z",
     "shell.execute_reply": "2023-04-05T15:33:25.832231Z"
    },
    "papermill": {
     "duration": 0.47587,
     "end_time": "2023-04-05T15:33:25.836481",
     "exception": false,
     "start_time": "2023-04-05T15:33:25.360611",
     "status": "completed"
    },
    "tags": []
   },
   "outputs": [
    {
     "data": {
      "text/plain": [
       "MultinomialNB()"
      ]
     },
     "execution_count": 13,
     "metadata": {},
     "output_type": "execute_result"
    }
   ],
   "source": [
    "# Train a Multinomial Naive Bayes model\n",
    "clf = MultinomialNB()\n",
    "clf.fit(X_train, y_train)"
   ]
  },
  {
   "cell_type": "code",
   "execution_count": 14,
   "id": "875cfd46",
   "metadata": {
    "execution": {
     "iopub.execute_input": "2023-04-05T15:33:25.851399Z",
     "iopub.status.busy": "2023-04-05T15:33:25.850960Z",
     "iopub.status.idle": "2023-04-05T15:33:26.648798Z",
     "shell.execute_reply": "2023-04-05T15:33:26.646997Z"
    },
    "papermill": {
     "duration": 0.80828,
     "end_time": "2023-04-05T15:33:26.651469",
     "exception": false,
     "start_time": "2023-04-05T15:33:25.843189",
     "status": "completed"
    },
    "tags": []
   },
   "outputs": [
    {
     "name": "stdout",
     "output_type": "stream",
     "text": [
      "                     precision    recall  f1-score   support\n",
      "\n",
      "        credit_card       0.79      0.58      0.67      3097\n",
      "   credit_reporting       0.80      0.96      0.87     18271\n",
      "    debt_collection       0.85      0.43      0.57      4627\n",
      "mortgages_and_loans       0.81      0.78      0.79      3779\n",
      "     retail_banking       0.90      0.73      0.80      2711\n",
      "\n",
      "           accuracy                           0.81     32485\n",
      "          macro avg       0.83      0.70      0.74     32485\n",
      "       weighted avg       0.81      0.81      0.79     32485\n",
      "\n"
     ]
    }
   ],
   "source": [
    "# Evaluate the model\n",
    "y_pred = clf.predict(X_test)\n",
    "print(classification_report(y_test, y_pred))\n"
   ]
  },
  {
   "cell_type": "markdown",
   "id": "909e2b79",
   "metadata": {
    "papermill": {
     "duration": 0.005865,
     "end_time": "2023-04-05T15:33:26.664160",
     "exception": false,
     "start_time": "2023-04-05T15:33:26.658295",
     "status": "completed"
    },
    "tags": []
   },
   "source": [
    "**RandomForestClassifier**"
   ]
  },
  {
   "cell_type": "code",
   "execution_count": 15,
   "id": "535050cf",
   "metadata": {
    "execution": {
     "iopub.execute_input": "2023-04-05T15:33:26.679236Z",
     "iopub.status.busy": "2023-04-05T15:33:26.678822Z",
     "iopub.status.idle": "2023-04-05T15:33:27.006860Z",
     "shell.execute_reply": "2023-04-05T15:33:27.005587Z"
    },
    "papermill": {
     "duration": 0.339401,
     "end_time": "2023-04-05T15:33:27.010049",
     "exception": false,
     "start_time": "2023-04-05T15:33:26.670648",
     "status": "completed"
    },
    "tags": []
   },
   "outputs": [],
   "source": [
    "from sklearn.ensemble import RandomForestClassifier"
   ]
  },
  {
   "cell_type": "code",
   "execution_count": 16,
   "id": "5ef13e31",
   "metadata": {
    "execution": {
     "iopub.execute_input": "2023-04-05T15:33:27.024905Z",
     "iopub.status.busy": "2023-04-05T15:33:27.024453Z",
     "iopub.status.idle": "2023-04-05T15:46:31.144050Z",
     "shell.execute_reply": "2023-04-05T15:46:31.142833Z"
    },
    "papermill": {
     "duration": 784.135443,
     "end_time": "2023-04-05T15:46:31.151729",
     "exception": false,
     "start_time": "2023-04-05T15:33:27.016286",
     "status": "completed"
    },
    "tags": []
   },
   "outputs": [
    {
     "data": {
      "text/plain": [
       "RandomForestClassifier()"
      ]
     },
     "execution_count": 16,
     "metadata": {},
     "output_type": "execute_result"
    }
   ],
   "source": [
    "RFC=RandomForestClassifier()\n",
    "RFC.fit(X_train,y_train)"
   ]
  },
  {
   "cell_type": "code",
   "execution_count": 17,
   "id": "c4c698f2",
   "metadata": {
    "execution": {
     "iopub.execute_input": "2023-04-05T15:46:31.166172Z",
     "iopub.status.busy": "2023-04-05T15:46:31.165724Z",
     "iopub.status.idle": "2023-04-05T15:46:33.602112Z",
     "shell.execute_reply": "2023-04-05T15:46:33.600868Z"
    },
    "papermill": {
     "duration": 2.447002,
     "end_time": "2023-04-05T15:46:33.604970",
     "exception": false,
     "start_time": "2023-04-05T15:46:31.157968",
     "status": "completed"
    },
    "tags": []
   },
   "outputs": [],
   "source": [
    "y_pred_RFC=RFC.predict(X_test)"
   ]
  },
  {
   "cell_type": "code",
   "execution_count": 18,
   "id": "b39a59cd",
   "metadata": {
    "execution": {
     "iopub.execute_input": "2023-04-05T15:46:33.619899Z",
     "iopub.status.busy": "2023-04-05T15:46:33.619504Z",
     "iopub.status.idle": "2023-04-05T15:46:34.504460Z",
     "shell.execute_reply": "2023-04-05T15:46:34.502353Z"
    },
    "papermill": {
     "duration": 0.895845,
     "end_time": "2023-04-05T15:46:34.507370",
     "exception": false,
     "start_time": "2023-04-05T15:46:33.611525",
     "status": "completed"
    },
    "tags": []
   },
   "outputs": [
    {
     "name": "stdout",
     "output_type": "stream",
     "text": [
      "                     precision    recall  f1-score   support\n",
      "\n",
      "        credit_card       0.81      0.69      0.75      3097\n",
      "   credit_reporting       0.88      0.98      0.93     18271\n",
      "    debt_collection       0.90      0.69      0.78      4627\n",
      "mortgages_and_loans       0.86      0.80      0.83      3779\n",
      "     retail_banking       0.86      0.82      0.84      2711\n",
      "\n",
      "           accuracy                           0.87     32485\n",
      "          macro avg       0.86      0.80      0.83     32485\n",
      "       weighted avg       0.87      0.87      0.87     32485\n",
      "\n"
     ]
    }
   ],
   "source": [
    "print(classification_report(y_test,y_pred_RFC))"
   ]
  },
  {
   "cell_type": "code",
   "execution_count": null,
   "id": "7de2f2b7",
   "metadata": {
    "papermill": {
     "duration": 0.006277,
     "end_time": "2023-04-05T15:46:34.520322",
     "exception": false,
     "start_time": "2023-04-05T15:46:34.514045",
     "status": "completed"
    },
    "tags": []
   },
   "outputs": [],
   "source": []
  }
 ],
 "metadata": {
  "kernelspec": {
   "display_name": "Python 3",
   "language": "python",
   "name": "python3"
  },
  "language_info": {
   "codemirror_mode": {
    "name": "ipython",
    "version": 3
   },
   "file_extension": ".py",
   "mimetype": "text/x-python",
   "name": "python",
   "nbconvert_exporter": "python",
   "pygments_lexer": "ipython3",
   "version": "3.7.12"
  },
  "papermill": {
   "default_parameters": {},
   "duration": 1326.033937,
   "end_time": "2023-04-05T15:46:35.454449",
   "environment_variables": {},
   "exception": null,
   "input_path": "__notebook__.ipynb",
   "output_path": "__notebook__.ipynb",
   "parameters": {},
   "start_time": "2023-04-05T15:24:29.420512",
   "version": "2.4.0"
  }
 },
 "nbformat": 4,
 "nbformat_minor": 5
}
